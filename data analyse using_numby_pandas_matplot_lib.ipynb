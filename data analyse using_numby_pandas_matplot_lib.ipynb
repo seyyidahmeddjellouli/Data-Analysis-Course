{
  "nbformat": 4,
  "nbformat_minor": 0,
  "metadata": {
    "colab": {
      "provenance": []
    },
    "kernelspec": {
      "name": "python3",
      "display_name": "Python 3"
    },
    "language_info": {
      "name": "python"
    }
  },
  "cells": [
    {
      "cell_type": "markdown",
      "source": [
        "### numpy"
      ],
      "metadata": {
        "id": "ArIoOMIo6k2M"
      }
    },
    {
      "cell_type": "markdown",
      "source": [
        "install numpy for those who dont have jupyter !"
      ],
      "metadata": {
        "id": "oI6ZQ_B76oez"
      }
    },
    {
      "cell_type": "code",
      "source": [
        "!pip install numpy\n"
      ],
      "metadata": {
        "colab": {
          "base_uri": "https://localhost:8080/"
        },
        "id": "IZFotKEm6nm5",
        "outputId": "2727bd58-0a9b-4b41-a765-4ad53d45a74d"
      },
      "execution_count": null,
      "outputs": [
        {
          "output_type": "stream",
          "name": "stdout",
          "text": [
            "Looking in indexes: https://pypi.org/simple, https://us-python.pkg.dev/colab-wheels/public/simple/\n",
            "Requirement already satisfied: numpy in /usr/local/lib/python3.8/dist-packages (1.21.6)\n"
          ]
        }
      ]
    },
    {
      "cell_type": "markdown",
      "source": [
        "import the library numby"
      ],
      "metadata": {
        "id": "HqPxQ5JR61Fa"
      }
    },
    {
      "cell_type": "code",
      "source": [
        "import numpy as np\n"
      ],
      "metadata": {
        "id": "uFVqEyx9671U"
      },
      "execution_count": null,
      "outputs": []
    },
    {
      "cell_type": "markdown",
      "source": [
        "Creating a Numpy Array"
      ],
      "metadata": {
        "id": "_CjqO9wc6_z7"
      }
    },
    {
      "cell_type": "code",
      "source": [
        "# Creating a single-dimensional array\n",
        "a = np.array([1,2,3]) # Calling the array function\n",
        "print(a)"
      ],
      "metadata": {
        "colab": {
          "base_uri": "https://localhost:8080/"
        },
        "id": "TUxo9pnf7e4D",
        "outputId": "71688d0a-4866-4d32-97f2-641248767a0b"
      },
      "execution_count": null,
      "outputs": [
        {
          "output_type": "stream",
          "name": "stdout",
          "text": [
            "[1 2 3]\n"
          ]
        }
      ]
    },
    {
      "cell_type": "markdown",
      "source": [
        "Creating a multi-dimensional array"
      ],
      "metadata": {
        "id": "R5UpoImOBeu0"
      }
    },
    {
      "cell_type": "code",
      "source": [
        "# Creating a multi-dimensional array\n",
        "# Each set of elements within a square bracket indicates a row\n",
        "# Array of two rows and two columns\n",
        "b = np.array([[1,2], [3,4]])\n",
        "print(b)"
      ],
      "metadata": {
        "colab": {
          "base_uri": "https://localhost:8080/"
        },
        "id": "XQdH9_nr7f9i",
        "outputId": "28631df5-1f6f-4cd8-946b-a6663a7c7d8e"
      },
      "execution_count": null,
      "outputs": [
        {
          "output_type": "stream",
          "name": "stdout",
          "text": [
            "[[1 2]\n",
            " [3 4]]\n"
          ]
        }
      ]
    },
    {
      "cell_type": "code",
      "source": [
        "# Creating an ndarray by wrapping a list\n",
        "list1 = [1,2,3,4,5] # Creating a list\n",
        "arr = np.array(list1) # Wrapping the list\n",
        "print(arr)"
      ],
      "metadata": {
        "colab": {
          "base_uri": "https://localhost:8080/"
        },
        "id": "Xby_AMBu7p9M",
        "outputId": "90115da1-e08f-4c36-fe72-f27163b1ab17"
      },
      "execution_count": null,
      "outputs": [
        {
          "output_type": "stream",
          "name": "stdout",
          "text": [
            "[1 2 3 4 5]\n"
          ]
        }
      ]
    },
    {
      "cell_type": "markdown",
      "source": [
        "Creating an array of numbers of a specified range"
      ],
      "metadata": {
        "id": "42lP1n9KB1h7"
      }
    },
    {
      "cell_type": "code",
      "source": [
        "# Creating an array of numbers of a specified range\n",
        "arr1 = np.arange(10, 100) # Array of numbers from 10 up to and excluding 100\n",
        "print(arr1)"
      ],
      "metadata": {
        "colab": {
          "base_uri": "https://localhost:8080/"
        },
        "id": "aXURs9rLB2uq",
        "outputId": "98b82b9f-220f-4005-a6bf-26b928f7e19f"
      },
      "execution_count": null,
      "outputs": [
        {
          "output_type": "stream",
          "name": "stdout",
          "text": [
            "[10 11 12 13 14 15 16 17 18 19 20 21 22 23 24 25 26 27 28 29 30 31 32 33\n",
            " 34 35 36 37 38 39 40 41 42 43 44 45 46 47 48 49 50 51 52 53 54 55 56 57\n",
            " 58 59 60 61 62 63 64 65 66 67 68 69 70 71 72 73 74 75 76 77 78 79 80 81\n",
            " 82 83 84 85 86 87 88 89 90 91 92 93 94 95 96 97 98 99]\n"
          ]
        }
      ]
    },
    {
      "cell_type": "markdown",
      "source": [
        "Creating a 5x5 array of zeroes"
      ],
      "metadata": {
        "id": "7NAQQeeVB61V"
      }
    },
    {
      "cell_type": "code",
      "source": [
        "# Creating a 5x5 array of zeroes\n",
        "arr2 = np.zeros((5,5))\n",
        "print(arr2)"
      ],
      "metadata": {
        "colab": {
          "base_uri": "https://localhost:8080/"
        },
        "id": "7f8Qc0qKB_Cd",
        "outputId": "4b910b07-732d-402b-99f2-11a771d7e5d9"
      },
      "execution_count": null,
      "outputs": [
        {
          "output_type": "stream",
          "name": "stdout",
          "text": [
            "[[0. 0. 0. 0. 0.]\n",
            " [0. 0. 0. 0. 0.]\n",
            " [0. 0. 0. 0. 0.]\n",
            " [0. 0. 0. 0. 0.]\n",
            " [0. 0. 0. 0. 0.]]\n"
          ]
        }
      ]
    },
    {
      "cell_type": "markdown",
      "source": [
        "Creating a linearly spaced vector"
      ],
      "metadata": {
        "id": "tAfxeFdACbd1"
      }
    },
    {
      "cell_type": "code",
      "source": [
        "# Creating a linearly spaced vector, with spacing\n",
        "vector = np.linspace(0, 20, 5) # Start, stop, step\n",
        "print(vector)"
      ],
      "metadata": {
        "colab": {
          "base_uri": "https://localhost:8080/"
        },
        "id": "p7RcdXHiCnRF",
        "outputId": "d2c8be1f-4f27-452b-aeab-a10b0667fc8e"
      },
      "execution_count": null,
      "outputs": [
        {
          "output_type": "stream",
          "name": "stdout",
          "text": [
            "[ 0.  5. 10. 15. 20.]\n"
          ]
        }
      ]
    },
    {
      "cell_type": "markdown",
      "source": [
        "Creating Arrays from Existing Data\n"
      ],
      "metadata": {
        "id": "zAnLBw6ZCqU0"
      }
    },
    {
      "cell_type": "code",
      "source": [
        "# Creating Arrays from Existing Data\n",
        "x = [1,2,3]\n",
        "# Used for converting Python sequences into ndarrays\n",
        "c = np.asarray(x) #np.asarray(a, dtype = None, order = None)\n",
        "print(c)"
      ],
      "metadata": {
        "colab": {
          "base_uri": "https://localhost:8080/"
        },
        "id": "IPmSBNAoC3fd",
        "outputId": "f37effdf-42ef-42e8-bad4-fb6a520a4d20"
      },
      "execution_count": null,
      "outputs": [
        {
          "output_type": "stream",
          "name": "stdout",
          "text": [
            "[1 2 3]\n"
          ]
        }
      ]
    },
    {
      "cell_type": "markdown",
      "source": [
        "Converting a linear array of 8 elements into a 2x2x2 3D array"
      ],
      "metadata": {
        "id": "880NYsCzC6Fb"
      }
    },
    {
      "cell_type": "code",
      "source": [
        "# Converting a linear array of 8 elements into a 2x2x2 3D array\n",
        "arr3 = np.zeros(8) # Flat array of eight zeroes\n",
        "arr3d = arr3.reshape((2,2,2)) # Restructured array\n",
        "print(arr3d)"
      ],
      "metadata": {
        "colab": {
          "base_uri": "https://localhost:8080/"
        },
        "id": "m-HmWTLWEetf",
        "outputId": "9b5408f4-6f6f-4a5a-9d8a-5bfbd2759cb0"
      },
      "execution_count": null,
      "outputs": [
        {
          "output_type": "stream",
          "name": "stdout",
          "text": [
            "[[[0. 0.]\n",
            "  [0. 0.]]\n",
            "\n",
            " [[0. 0.]\n",
            "  [0. 0.]]]\n"
          ]
        }
      ]
    },
    {
      "cell_type": "markdown",
      "source": [
        "\n",
        "Flatten rgw 3d array to get back the linear array\n",
        "![3D-input-to-1D-array-row-by-row-transformation.png](data:image/png;base64,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)\n",
        "\n",
        "Flatten rgw 3d array to get back the linear array\n"
      ],
      "metadata": {
        "id": "rjgEppUoEh0Q"
      }
    },
    {
      "cell_type": "code",
      "source": [
        "# Flatten rgw 3d array to get back the linear array\n",
        "arr4 = arr3d.ravel()\n",
        "print(arr4)"
      ],
      "metadata": {
        "colab": {
          "base_uri": "https://localhost:8080/"
        },
        "id": "Ru-YvxN3EqpC",
        "outputId": "246cfbe1-81a7-464a-c0d1-be1718082695"
      },
      "execution_count": null,
      "outputs": [
        {
          "output_type": "stream",
          "name": "stdout",
          "text": [
            "[0. 0. 0. 0. 0. 0. 0. 0.]\n"
          ]
        }
      ]
    },
    {
      "cell_type": "markdown",
      "source": [
        "Indexing of NumPy Arrays"
      ],
      "metadata": {
        "id": "rGHLsns-FG3H"
      }
    },
    {
      "cell_type": "markdown",
      "source": [
        "NumPy array indexing is identical to Python's indexing scheme"
      ],
      "metadata": {
        "id": "RX6k2oGVFJwy"
      }
    },
    {
      "cell_type": "code",
      "source": [
        "# NumPy array indexing is identical to Python's indexing scheme\n",
        "arr5 = np.arange(2, 20)\n",
        "element = arr5[6]\n",
        "print(element)"
      ],
      "metadata": {
        "colab": {
          "base_uri": "https://localhost:8080/"
        },
        "id": "dXUOKZu8FJIy",
        "outputId": "fdc60067-9fd1-480b-ccc3-0e20fd94e7a4"
      },
      "execution_count": null,
      "outputs": [
        {
          "output_type": "stream",
          "name": "stdout",
          "text": [
            "8\n"
          ]
        }
      ]
    },
    {
      "cell_type": "markdown",
      "source": [
        "Python's concept of lists slicing is extended to NumPy.\n",
        "The slice object is constructed by providing start, stop, and step parameters "
      ],
      "metadata": {
        "id": "2v6p3qdaFPHT"
      }
    },
    {
      "cell_type": "code",
      "source": [
        "# Python's concept of lists slicing is extended to NumPy.\n",
        "# The slice object is constructed by providing start, stop, and step parameters to slice()\n",
        "arr6 = np.arange(20)\n",
        "arr_slice = slice(1, 10, 2) # Start, stop & step\n",
        "element2 = arr6[6]\n",
        "print(arr6[arr_slice])"
      ],
      "metadata": {
        "colab": {
          "base_uri": "https://localhost:8080/"
        },
        "id": "OlVED6KBOG0t",
        "outputId": "22ccda96-6fa2-43b5-ac60-9fd8b93f48f8"
      },
      "execution_count": null,
      "outputs": [
        {
          "output_type": "stream",
          "name": "stdout",
          "text": [
            "[1 3 5 7 9]\n"
          ]
        }
      ]
    },
    {
      "cell_type": "markdown",
      "source": [
        "Slicing items beginning with a specified index\n"
      ],
      "metadata": {
        "id": "F94Fn1QyOK1B"
      }
    },
    {
      "cell_type": "code",
      "source": [
        "# Slicing items beginning with a specified index\n",
        "arr7 = np.arange(20)\n",
        "print(arr7[2:])"
      ],
      "metadata": {
        "colab": {
          "base_uri": "https://localhost:8080/"
        },
        "id": "jZEbKxvbOMUB",
        "outputId": "343b53ec-c205-471a-eaec-41dea26e2219"
      },
      "execution_count": null,
      "outputs": [
        {
          "output_type": "stream",
          "name": "stdout",
          "text": [
            "[ 2  3  4  5  6  7  8  9 10 11 12 13 14 15 16 17 18 19]\n"
          ]
        }
      ]
    },
    {
      "cell_type": "markdown",
      "source": [
        "# Slicing items until a specified index\n"
      ],
      "metadata": {
        "id": "EzrYfZFnOQZO"
      }
    },
    {
      "cell_type": "code",
      "source": [
        "# Slicing items until a specified index\n",
        "print(arr7[:15])"
      ],
      "metadata": {
        "colab": {
          "base_uri": "https://localhost:8080/"
        },
        "id": "IIdw-9-JOSRp",
        "outputId": "19a53b6b-83ae-4721-bae3-af7e0634e9d1"
      },
      "execution_count": null,
      "outputs": [
        {
          "output_type": "stream",
          "name": "stdout",
          "text": [
            "[ 0  1  2  3  4  5  6  7  8  9 10 11 12 13 14]\n"
          ]
        }
      ]
    },
    {
      "cell_type": "markdown",
      "source": [
        "Extracting specific rows and columns using Slicing\n"
      ],
      "metadata": {
        "id": "qmN3PdoCOVxt"
      }
    },
    {
      "cell_type": "code",
      "source": [
        "# Extracting specific rows and columns using Slicing\n",
        "d = np.array([[1,2,3], [3,4,5], [4,5,6]])\n",
        "print(d[0:2, 0:2]) # Slice the first two rows and the first two columns"
      ],
      "metadata": {
        "colab": {
          "base_uri": "https://localhost:8080/"
        },
        "id": "dyTfffgoOXoH",
        "outputId": "426e66fa-fb28-485b-8dfb-f6f38bb7fa5d"
      },
      "execution_count": null,
      "outputs": [
        {
          "output_type": "stream",
          "name": "stdout",
          "text": [
            "[[1 2]\n",
            " [3 4]]\n"
          ]
        }
      ]
    },
    {
      "cell_type": "markdown",
      "source": [
        "NumPy Array Attributes"
      ],
      "metadata": {
        "id": "5hxSEqp7OdK1"
      }
    },
    {
      "cell_type": "code",
      "source": [
        "print(d.shape) # Returns a tuple consisting of array dimensions\n",
        "print(d.ndim) # Attribute returns the number of array dimensions\n",
        "print(a.itemsize) # Returns the length of each element of array in bytes"
      ],
      "metadata": {
        "colab": {
          "base_uri": "https://localhost:8080/"
        },
        "id": "GPxpoyhROiAV",
        "outputId": "595e711b-ea66-4a5c-b2bd-38aac68ff9f0"
      },
      "execution_count": null,
      "outputs": [
        {
          "output_type": "stream",
          "name": "stdout",
          "text": [
            "(3, 3)\n",
            "2\n",
            "8\n"
          ]
        }
      ]
    },
    {
      "cell_type": "markdown",
      "source": [],
      "metadata": {
        "id": "sw52tKoDOkqe"
      }
    },
    {
      "cell_type": "code",
      "source": [
        "y = np.empty([3,2], dtype = int) # Creates an uninitialized array of specified shape and dtype\n",
        "print(y)"
      ],
      "metadata": {
        "colab": {
          "base_uri": "https://localhost:8080/"
        },
        "id": "6QjOs-U3OrQv",
        "outputId": "369be87f-7326-471e-9493-2eacd29ab515"
      },
      "execution_count": null,
      "outputs": [
        {
          "output_type": "stream",
          "name": "stdout",
          "text": [
            "[[33136928        0]\n",
            " [       0        0]\n",
            " [       0        0]]\n"
          ]
        }
      ]
    },
    {
      "cell_type": "code",
      "source": [
        "# Returns a new array of specified size, filled with zeros\n",
        "z = np.zeros(5) # np.zeros(shape, dtype = float)\n",
        "print(z)"
      ],
      "metadata": {
        "colab": {
          "base_uri": "https://localhost:8080/"
        },
        "id": "kdl9DlK4OsK4",
        "outputId": "6efab918-5a32-4896-d3a4-7b071df1781e"
      },
      "execution_count": null,
      "outputs": [
        {
          "output_type": "stream",
          "name": "stdout",
          "text": [
            "[0. 0. 0. 0. 0.]\n"
          ]
        }
      ]
    },
    {
      "cell_type": "markdown",
      "source": [
        "# **Pandas**"
      ],
      "metadata": {
        "id": "LY807ppwOulm"
      }
    },
    {
      "cell_type": "markdown",
      "source": [
        "install pandas"
      ],
      "metadata": {
        "id": "58lFm8JQSDv4"
      }
    },
    {
      "cell_type": "code",
      "source": [
        "!pip install pandas"
      ],
      "metadata": {
        "colab": {
          "base_uri": "https://localhost:8080/"
        },
        "id": "smu7-uChSGZ1",
        "outputId": "f3a81855-db0a-44cb-9ddb-036dbfac15ad"
      },
      "execution_count": null,
      "outputs": [
        {
          "output_type": "stream",
          "name": "stdout",
          "text": [
            "Looking in indexes: https://pypi.org/simple, https://us-python.pkg.dev/colab-wheels/public/simple/\n",
            "Requirement already satisfied: pandas in /usr/local/lib/python3.8/dist-packages (1.3.5)\n",
            "Requirement already satisfied: python-dateutil>=2.7.3 in /usr/local/lib/python3.8/dist-packages (from pandas) (2.8.2)\n",
            "Requirement already satisfied: numpy>=1.17.3 in /usr/local/lib/python3.8/dist-packages (from pandas) (1.21.6)\n",
            "Requirement already satisfied: pytz>=2017.3 in /usr/local/lib/python3.8/dist-packages (from pandas) (2022.7.1)\n",
            "Requirement already satisfied: six>=1.5 in /usr/local/lib/python3.8/dist-packages (from python-dateutil>=2.7.3->pandas) (1.15.0)\n"
          ]
        }
      ]
    },
    {
      "cell_type": "markdown",
      "source": [
        "import pandas"
      ],
      "metadata": {
        "id": "W3Yyfh_rSXXd"
      }
    },
    {
      "cell_type": "code",
      "source": [
        "import pandas as pd"
      ],
      "metadata": {
        "id": "oJVc3kQkOyN4"
      },
      "execution_count": null,
      "outputs": []
    },
    {
      "cell_type": "markdown",
      "source": [
        "### Series"
      ],
      "metadata": {
        "id": "ehjhZN1bTJwx"
      }
    },
    {
      "cell_type": "markdown",
      "source": [
        "1. A Series is a single-dimensional array structures that stores homogenous data i.e., data of a single type.\n",
        "2. All the elements of a Series are value-mutable and size-immutable\n",
        "3. Data can be of multiple data types such as ndarray, lists, constants, series, dict etc.\n",
        "4. Indexes must be unique, hashable and have the same length as data. Defaults to np.arrange(n) if no index is passed.\n",
        "5. Data type of each column; if none is mentioned, it will be inferred; automatically\n",
        "6. Deep copies data, set to false as default"
      ],
      "metadata": {
        "id": "3DrwN1HXzYOS"
      }
    },
    {
      "cell_type": "markdown",
      "source": [
        "## Creating a Series"
      ],
      "metadata": {
        "id": "fRvlJyBAzemS"
      }
    },
    {
      "cell_type": "code",
      "source": [
        "# Creating an empty Series\n",
        "series = pd.Series() # The Series() function creates a new Series\n",
        "print(series)"
      ],
      "metadata": {
        "colab": {
          "base_uri": "https://localhost:8080/"
        },
        "id": "QQ7DAnQ6zh6c",
        "outputId": "668f337b-6ee8-4775-a36d-30b38140c516"
      },
      "execution_count": null,
      "outputs": [
        {
          "output_type": "stream",
          "name": "stdout",
          "text": [
            "Series([], dtype: float64)\n"
          ]
        },
        {
          "output_type": "stream",
          "name": "stderr",
          "text": [
            "<ipython-input-22-c3036da17961>:2: DeprecationWarning: The default dtype for empty Series will be 'object' instead of 'float64' in a future version. Specify a dtype explicitly to silence this warning.\n",
            "  series = pd.Series() # The Series() function creates a new Series\n"
          ]
        }
      ]
    },
    {
      "cell_type": "markdown",
      "source": [
        "# Creating a series from an ndarray\n"
      ],
      "metadata": {
        "id": "DEpOfPMezk1C"
      }
    },
    {
      "cell_type": "code",
      "source": [
        "# Creating a series from an ndarray\n",
        "# Note that indexes are a assigned automatically if not specifies\n",
        "arr = np.array([10,20,30,40,50])\n",
        "series1 = pd.Series(arr)\n",
        "print(series1)"
      ],
      "metadata": {
        "colab": {
          "base_uri": "https://localhost:8080/"
        },
        "id": "6gcTXHdTzv_N",
        "outputId": "78ad1b27-c269-422a-d27d-91c181c3e727"
      },
      "execution_count": null,
      "outputs": [
        {
          "output_type": "stream",
          "name": "stdout",
          "text": [
            "0    10\n",
            "1    20\n",
            "2    30\n",
            "3    40\n",
            "4    50\n",
            "dtype: int64\n"
          ]
        }
      ]
    },
    {
      "cell_type": "markdown",
      "source": [
        "# Retrieving a part of the series using slicing\n"
      ],
      "metadata": {
        "id": "Aj4ZXsjVzyPT"
      }
    },
    {
      "cell_type": "code",
      "source": [
        "# Retrieving a part of the series using slicing\n",
        "print(series1[1:4])"
      ],
      "metadata": {
        "colab": {
          "base_uri": "https://localhost:8080/"
        },
        "id": "CtAvEBCCz_rT",
        "outputId": "90c2bac6-f82b-42fb-8161-a0180aa0fe94"
      },
      "execution_count": null,
      "outputs": [
        {
          "output_type": "stream",
          "name": "stdout",
          "text": [
            "1    20\n",
            "2    30\n",
            "3    40\n",
            "dtype: int64\n"
          ]
        }
      ]
    },
    {
      "cell_type": "markdown",
      "source": [
        "## DataFrames"
      ],
      "metadata": {
        "id": "DUNH5nQ50Aea"
      }
    },
    {
      "cell_type": "markdown",
      "source": [
        "1. A DataFrame is a 2D data structure in which data is aligned in a tabular fashion consisting of rows & columns\n",
        "2. A DataFrame can be created using the following constructor - pandas.DataFrame(data, index, dtype, copy)\n",
        "3. Data can be of multiple data types such as ndarray, list, constants, series, dict etc.\n",
        "4. Index Row and column labels of the dataframe; defaults to np.arrange(n) if no index is passed\n",
        "5. Data type of each column\n",
        "6. Creates a deep copy of the data, set to false as default"
      ],
      "metadata": {
        "id": "3Q5ZifPf0DZm"
      }
    },
    {
      "cell_type": "markdown",
      "source": [
        "## Creating a DataFrame"
      ],
      "metadata": {
        "id": "g-n4NZWs0G6r"
      }
    },
    {
      "cell_type": "code",
      "source": [
        "# Converting a list into a DataFrame\n",
        "list1 = [10, 20, 30, 40]\n",
        "table = pd.DataFrame(list1)\n",
        "print(table)"
      ],
      "metadata": {
        "colab": {
          "base_uri": "https://localhost:8080/"
        },
        "id": "ergU1Ciu0KaO",
        "outputId": "c012bed6-fe6c-428f-a91d-475512b0a114"
      },
      "execution_count": null,
      "outputs": [
        {
          "output_type": "stream",
          "name": "stdout",
          "text": [
            "    0\n",
            "0  10\n",
            "1  20\n",
            "2  30\n",
            "3  40\n"
          ]
        }
      ]
    },
    {
      "cell_type": "markdown",
      "source": [
        "# Creating a DataFrame from a list of dictionaries"
      ],
      "metadata": {
        "id": "li_-UFNB0Y3J"
      }
    },
    {
      "cell_type": "code",
      "source": [
        "# Creating a DataFrame from a list of dictionaries\n",
        "data = [{'a':1, 'b':2}, {'a':2, 'b':4, 'c':8}]\n",
        "table1 = pd.DataFrame(data)\n",
        "print(table1)\n",
        "# NaN (not a number) is stored in areas where no data is provided"
      ],
      "metadata": {
        "colab": {
          "base_uri": "https://localhost:8080/"
        },
        "id": "2ovws8HM0dt3",
        "outputId": "bac33fa9-8cbe-4bdf-a2d5-423b6e94b73a"
      },
      "execution_count": null,
      "outputs": [
        {
          "output_type": "stream",
          "name": "stdout",
          "text": [
            "   a  b    c\n",
            "0  1  2  NaN\n",
            "1  2  4  8.0\n"
          ]
        }
      ]
    },
    {
      "cell_type": "markdown",
      "source": [
        "# Creating a DataFrame from a list of dictionaries and accompaying row indices"
      ],
      "metadata": {
        "id": "ojZUNQG10gGj"
      }
    },
    {
      "cell_type": "code",
      "source": [
        "# Creating a DataFrame from a list of dictionaries and accompaying row indices\n",
        "table2 = pd.DataFrame(data, index = ['first', 'second'])\n",
        "# Dict keys become column lables\n",
        "print(table2)"
      ],
      "metadata": {
        "colab": {
          "base_uri": "https://localhost:8080/"
        },
        "id": "2bcLGM_i0ljS",
        "outputId": "e213f6e6-25bc-493b-eb86-15a917a5045b"
      },
      "execution_count": null,
      "outputs": [
        {
          "output_type": "stream",
          "name": "stdout",
          "text": [
            "        a  b    c\n",
            "first   1  2  NaN\n",
            "second  2  4  8.0\n"
          ]
        }
      ]
    },
    {
      "cell_type": "markdown",
      "source": [
        "# Converting a dictionary of series into a DataFrame"
      ],
      "metadata": {
        "id": "V4m48hRm0nmV"
      }
    },
    {
      "cell_type": "code",
      "source": [
        "# Converting a dictionary of series into a DataFrame\n",
        "data1 = {'one':pd.Series([1,2,3], index = ['a', 'b', 'c']),\n",
        "        'two':pd.Series([1,2,3,4], index = ['a', 'b', 'c', 'd'])}\n",
        "table3 = pd.DataFrame(data1)\n",
        "print(table3)\n",
        "# the resultant index is the union of all the series indexes passed"
      ],
      "metadata": {
        "colab": {
          "base_uri": "https://localhost:8080/"
        },
        "id": "FV6mYE4l0qG3",
        "outputId": "19714623-63bc-4031-9cd3-1d857d8f0bdc"
      },
      "execution_count": null,
      "outputs": [
        {
          "output_type": "stream",
          "name": "stdout",
          "text": [
            "   one  two\n",
            "a  1.0    1\n",
            "b  2.0    2\n",
            "c  3.0    3\n",
            "d  NaN    4\n"
          ]
        }
      ]
    },
    {
      "cell_type": "markdown",
      "source": [
        "## DataFrame - Addition & Deletion of Columns "
      ],
      "metadata": {
        "id": "Q2w95IHR0sLC"
      }
    },
    {
      "cell_type": "code",
      "source": [
        "# A new column can be added to a DataFrame when the data is passed as a Series\n",
        "table3['three'] = pd.Series([10,20,30], index = ['a', 'b', 'c'])\n",
        "print(table3)"
      ],
      "metadata": {
        "colab": {
          "base_uri": "https://localhost:8080/"
        },
        "id": "Mf-vjkkk0vDD",
        "outputId": "c948f345-10ed-485b-896f-138dd533f50a"
      },
      "execution_count": null,
      "outputs": [
        {
          "output_type": "stream",
          "name": "stdout",
          "text": [
            "   one  two  three\n",
            "a  1.0    1   10.0\n",
            "b  2.0    2   20.0\n",
            "c  3.0    3   30.0\n",
            "d  NaN    4    NaN\n"
          ]
        }
      ]
    },
    {
      "cell_type": "markdown",
      "source": [
        "# DataFrame columns can be deleted using the del() function\n"
      ],
      "metadata": {
        "id": "XL93zHat0xYF"
      }
    },
    {
      "cell_type": "code",
      "source": [
        "# DataFrame columns can be deleted using the del() function\n",
        "del table3['one']\n",
        "print(table3)"
      ],
      "metadata": {
        "colab": {
          "base_uri": "https://localhost:8080/"
        },
        "id": "pYO-HACm1HWm",
        "outputId": "bc962f62-6522-4426-b2ba-d13a45b2142b"
      },
      "execution_count": null,
      "outputs": [
        {
          "output_type": "stream",
          "name": "stdout",
          "text": [
            "   two  three\n",
            "a    1   10.0\n",
            "b    2   20.0\n",
            "c    3   30.0\n",
            "d    4    NaN\n"
          ]
        }
      ]
    },
    {
      "cell_type": "markdown",
      "source": [
        "# DataFrame columns can be deleted using the pop() function\n"
      ],
      "metadata": {
        "id": "0SXRiia_1KCP"
      }
    },
    {
      "cell_type": "code",
      "source": [
        "# DataFrame columns can be deleted using the pop() function\n",
        "table3.pop('two')\n",
        "print(table3)"
      ],
      "metadata": {
        "colab": {
          "base_uri": "https://localhost:8080/"
        },
        "id": "XqYPYgkH1Lgy",
        "outputId": "b3a8cf56-58be-43ed-94cf-2deca05c9d3c"
      },
      "execution_count": null,
      "outputs": [
        {
          "output_type": "stream",
          "name": "stdout",
          "text": [
            "   three\n",
            "a   10.0\n",
            "b   20.0\n",
            "c   30.0\n",
            "d    NaN\n"
          ]
        }
      ]
    },
    {
      "cell_type": "markdown",
      "source": [
        "## DataFrame - Addition & Deletion of Rows"
      ],
      "metadata": {
        "id": "5iX7s81y1OkL"
      }
    },
    {
      "cell_type": "code",
      "source": [
        "# DataFrame rows can be selected by passing the row lable to the loc() function\n",
        "print(table3.loc['c'])"
      ],
      "metadata": {
        "colab": {
          "base_uri": "https://localhost:8080/"
        },
        "id": "La9D2Ljv1PT-",
        "outputId": "e8b5447f-269d-466d-e8b6-cd608cb70f6f"
      },
      "execution_count": null,
      "outputs": [
        {
          "output_type": "stream",
          "name": "stdout",
          "text": [
            "three    30.0\n",
            "Name: c, dtype: float64\n"
          ]
        }
      ]
    },
    {
      "cell_type": "markdown",
      "source": [
        "# Row selection can also be done using the row index"
      ],
      "metadata": {
        "id": "DOhFUgvm1SRk"
      }
    },
    {
      "cell_type": "code",
      "source": [
        "# Row selection can also be done using the row index\n",
        "print(table3.iloc[2])"
      ],
      "metadata": {
        "colab": {
          "base_uri": "https://localhost:8080/"
        },
        "id": "lWY6fBYU1Utz",
        "outputId": "6c95a460-ccec-400a-be7b-596210e5c5af"
      },
      "execution_count": null,
      "outputs": [
        {
          "output_type": "stream",
          "name": "stdout",
          "text": [
            "three    30.0\n",
            "Name: c, dtype: float64\n"
          ]
        }
      ]
    },
    {
      "cell_type": "markdown",
      "source": [
        "# The append() function can be used to add more rows to the DataFrame\n"
      ],
      "metadata": {
        "id": "UUWvLRgv1X6y"
      }
    },
    {
      "cell_type": "code",
      "source": [
        "# The append() function can be used to add more rows to the DataFrame\n",
        "data2 = {'one':pd.Series([1,2,3], index = ['a', 'b', 'c']),\n",
        "        'two':pd.Series([1,2,3,4], index = ['a', 'b', 'c', 'd'])}\n",
        "table5 = pd.DataFrame(data2)\n",
        "table5['three'] = pd.Series([10,20,30], index = ['a', 'b', 'c'])\n",
        "row = pd.DataFrame([[11,13],[17,19]], columns = ['two', 'three'])\n",
        "table6 = table5.append(row)\n",
        "print(table6)"
      ],
      "metadata": {
        "colab": {
          "base_uri": "https://localhost:8080/"
        },
        "id": "DbQE50Zl1ZOq",
        "outputId": "68f2dd05-90d6-4985-c19c-630fee058239"
      },
      "execution_count": null,
      "outputs": [
        {
          "output_type": "stream",
          "name": "stdout",
          "text": [
            "   one  two  three\n",
            "a  1.0    1   10.0\n",
            "b  2.0    2   20.0\n",
            "c  3.0    3   30.0\n",
            "d  NaN    4    NaN\n",
            "0  NaN   11   13.0\n",
            "1  NaN   17   19.0\n"
          ]
        }
      ]
    },
    {
      "cell_type": "markdown",
      "source": [
        "# The append() function can be used to add more rows to the DataFrame\n"
      ],
      "metadata": {
        "id": "4hFJOcRn1bWV"
      }
    },
    {
      "cell_type": "code",
      "source": [
        "# The append() function can be used to add more rows to the DataFrame\n",
        "data2 = {'one':pd.Series([1,2,3], index = ['a', 'b', 'c']),\n",
        "        'two':pd.Series([1,2,3,4], index = ['a', 'b', 'c', 'd'])}\n",
        "table5 = pd.DataFrame(data2)\n",
        "table5['three'] = pd.Series([10,20,30], index = ['a', 'b', 'c'])\n",
        "row = pd.DataFrame([[11,13],[17,19]], columns = ['two', 'three'])\n",
        "table6 = table5.append(row)\n",
        "print(table6)"
      ],
      "metadata": {
        "colab": {
          "base_uri": "https://localhost:8080/"
        },
        "id": "cDhNfC5q1c5o",
        "outputId": "186d7652-29fb-44b9-f645-7eb805229f48"
      },
      "execution_count": null,
      "outputs": [
        {
          "output_type": "stream",
          "name": "stdout",
          "text": [
            "   one  two  three\n",
            "a  1.0    1   10.0\n",
            "b  2.0    2   20.0\n",
            "c  3.0    3   30.0\n",
            "d  NaN    4    NaN\n",
            "0  NaN   11   13.0\n",
            "1  NaN   17   19.0\n"
          ]
        }
      ]
    },
    {
      "cell_type": "markdown",
      "source": [
        "# The drop() function can be used to drop rows whose labels are provided\n"
      ],
      "metadata": {
        "id": "-x2HYuyu1dt6"
      }
    },
    {
      "cell_type": "code",
      "source": [
        "# The drop() function can be used to drop rows whose labels are provided\n",
        "table7 = table6.drop('a')\n",
        "print(table7)"
      ],
      "metadata": {
        "colab": {
          "base_uri": "https://localhost:8080/"
        },
        "id": "ucrag5Ww1ohs",
        "outputId": "dbaa4bd3-e955-4e03-cad2-c3add7ca8ee5"
      },
      "execution_count": null,
      "outputs": [
        {
          "output_type": "stream",
          "name": "stdout",
          "text": [
            "   one  two  three\n",
            "b  2.0    2   20.0\n",
            "c  3.0    3   30.0\n",
            "d  NaN    4    NaN\n",
            "0  NaN   11   13.0\n",
            "1  NaN   17   19.0\n"
          ]
        }
      ]
    },
    {
      "cell_type": "markdown",
      "source": [
        "## Importing & Exporting Data"
      ],
      "metadata": {
        "id": "ngZQ1_xL1sXB"
      }
    },
    {
      "cell_type": "markdown",
      "source": [
        "# Data can be loaded into DataFrames from input data stored in the CSV format using the read_csv() function\n"
      ],
      "metadata": {
        "id": "kxv0mopN1tqU"
      }
    },
    {
      "cell_type": "code",
      "source": [
        "# Data can be loaded into DataFrames from input data stored in the CSV format using the read_csv() function\n",
        "table_csv = pd.read_csv('../input/Cars2015.csv')"
      ],
      "metadata": {
        "colab": {
          "base_uri": "https://localhost:8080/",
          "height": 328
        },
        "id": "QX4p0_ha1tOh",
        "outputId": "766c3172-09fa-4c4e-e844-52ce2460a233"
      },
      "execution_count": null,
      "outputs": [
        {
          "output_type": "error",
          "ename": "FileNotFoundError",
          "evalue": "ignored",
          "traceback": [
            "\u001b[0;31m---------------------------------------------------------------------------\u001b[0m",
            "\u001b[0;31mFileNotFoundError\u001b[0m                         Traceback (most recent call last)",
            "\u001b[0;32m<ipython-input-37-d791aea67ee2>\u001b[0m in \u001b[0;36m<module>\u001b[0;34m\u001b[0m\n\u001b[1;32m      1\u001b[0m \u001b[0;31m# Data can be loaded into DataFrames from input data stored in the CSV format using the read_csv() function\u001b[0m\u001b[0;34m\u001b[0m\u001b[0;34m\u001b[0m\u001b[0;34m\u001b[0m\u001b[0m\n\u001b[0;32m----> 2\u001b[0;31m \u001b[0mtable_csv\u001b[0m \u001b[0;34m=\u001b[0m \u001b[0mpd\u001b[0m\u001b[0;34m.\u001b[0m\u001b[0mread_csv\u001b[0m\u001b[0;34m(\u001b[0m\u001b[0;34m'../input/Cars2015.csv'\u001b[0m\u001b[0;34m)\u001b[0m\u001b[0;34m\u001b[0m\u001b[0;34m\u001b[0m\u001b[0m\n\u001b[0m",
            "\u001b[0;32m/usr/local/lib/python3.8/dist-packages/pandas/util/_decorators.py\u001b[0m in \u001b[0;36mwrapper\u001b[0;34m(*args, **kwargs)\u001b[0m\n\u001b[1;32m    309\u001b[0m                     \u001b[0mstacklevel\u001b[0m\u001b[0;34m=\u001b[0m\u001b[0mstacklevel\u001b[0m\u001b[0;34m,\u001b[0m\u001b[0;34m\u001b[0m\u001b[0;34m\u001b[0m\u001b[0m\n\u001b[1;32m    310\u001b[0m                 )\n\u001b[0;32m--> 311\u001b[0;31m             \u001b[0;32mreturn\u001b[0m \u001b[0mfunc\u001b[0m\u001b[0;34m(\u001b[0m\u001b[0;34m*\u001b[0m\u001b[0margs\u001b[0m\u001b[0;34m,\u001b[0m \u001b[0;34m**\u001b[0m\u001b[0mkwargs\u001b[0m\u001b[0;34m)\u001b[0m\u001b[0;34m\u001b[0m\u001b[0;34m\u001b[0m\u001b[0m\n\u001b[0m\u001b[1;32m    312\u001b[0m \u001b[0;34m\u001b[0m\u001b[0m\n\u001b[1;32m    313\u001b[0m         \u001b[0;32mreturn\u001b[0m \u001b[0mwrapper\u001b[0m\u001b[0;34m\u001b[0m\u001b[0;34m\u001b[0m\u001b[0m\n",
            "\u001b[0;32m/usr/local/lib/python3.8/dist-packages/pandas/io/parsers/readers.py\u001b[0m in \u001b[0;36mread_csv\u001b[0;34m(filepath_or_buffer, sep, delimiter, header, names, index_col, usecols, squeeze, prefix, mangle_dupe_cols, dtype, engine, converters, true_values, false_values, skipinitialspace, skiprows, skipfooter, nrows, na_values, keep_default_na, na_filter, verbose, skip_blank_lines, parse_dates, infer_datetime_format, keep_date_col, date_parser, dayfirst, cache_dates, iterator, chunksize, compression, thousands, decimal, lineterminator, quotechar, quoting, doublequote, escapechar, comment, encoding, encoding_errors, dialect, error_bad_lines, warn_bad_lines, on_bad_lines, delim_whitespace, low_memory, memory_map, float_precision, storage_options)\u001b[0m\n\u001b[1;32m    584\u001b[0m     \u001b[0mkwds\u001b[0m\u001b[0;34m.\u001b[0m\u001b[0mupdate\u001b[0m\u001b[0;34m(\u001b[0m\u001b[0mkwds_defaults\u001b[0m\u001b[0;34m)\u001b[0m\u001b[0;34m\u001b[0m\u001b[0;34m\u001b[0m\u001b[0m\n\u001b[1;32m    585\u001b[0m \u001b[0;34m\u001b[0m\u001b[0m\n\u001b[0;32m--> 586\u001b[0;31m     \u001b[0;32mreturn\u001b[0m \u001b[0m_read\u001b[0m\u001b[0;34m(\u001b[0m\u001b[0mfilepath_or_buffer\u001b[0m\u001b[0;34m,\u001b[0m \u001b[0mkwds\u001b[0m\u001b[0;34m)\u001b[0m\u001b[0;34m\u001b[0m\u001b[0;34m\u001b[0m\u001b[0m\n\u001b[0m\u001b[1;32m    587\u001b[0m \u001b[0;34m\u001b[0m\u001b[0m\n\u001b[1;32m    588\u001b[0m \u001b[0;34m\u001b[0m\u001b[0m\n",
            "\u001b[0;32m/usr/local/lib/python3.8/dist-packages/pandas/io/parsers/readers.py\u001b[0m in \u001b[0;36m_read\u001b[0;34m(filepath_or_buffer, kwds)\u001b[0m\n\u001b[1;32m    480\u001b[0m \u001b[0;34m\u001b[0m\u001b[0m\n\u001b[1;32m    481\u001b[0m     \u001b[0;31m# Create the parser.\u001b[0m\u001b[0;34m\u001b[0m\u001b[0;34m\u001b[0m\u001b[0;34m\u001b[0m\u001b[0m\n\u001b[0;32m--> 482\u001b[0;31m     \u001b[0mparser\u001b[0m \u001b[0;34m=\u001b[0m \u001b[0mTextFileReader\u001b[0m\u001b[0;34m(\u001b[0m\u001b[0mfilepath_or_buffer\u001b[0m\u001b[0;34m,\u001b[0m \u001b[0;34m**\u001b[0m\u001b[0mkwds\u001b[0m\u001b[0;34m)\u001b[0m\u001b[0;34m\u001b[0m\u001b[0;34m\u001b[0m\u001b[0m\n\u001b[0m\u001b[1;32m    483\u001b[0m \u001b[0;34m\u001b[0m\u001b[0m\n\u001b[1;32m    484\u001b[0m     \u001b[0;32mif\u001b[0m \u001b[0mchunksize\u001b[0m \u001b[0;32mor\u001b[0m \u001b[0miterator\u001b[0m\u001b[0;34m:\u001b[0m\u001b[0;34m\u001b[0m\u001b[0;34m\u001b[0m\u001b[0m\n",
            "\u001b[0;32m/usr/local/lib/python3.8/dist-packages/pandas/io/parsers/readers.py\u001b[0m in \u001b[0;36m__init__\u001b[0;34m(self, f, engine, **kwds)\u001b[0m\n\u001b[1;32m    809\u001b[0m             \u001b[0mself\u001b[0m\u001b[0;34m.\u001b[0m\u001b[0moptions\u001b[0m\u001b[0;34m[\u001b[0m\u001b[0;34m\"has_index_names\"\u001b[0m\u001b[0;34m]\u001b[0m \u001b[0;34m=\u001b[0m \u001b[0mkwds\u001b[0m\u001b[0;34m[\u001b[0m\u001b[0;34m\"has_index_names\"\u001b[0m\u001b[0;34m]\u001b[0m\u001b[0;34m\u001b[0m\u001b[0;34m\u001b[0m\u001b[0m\n\u001b[1;32m    810\u001b[0m \u001b[0;34m\u001b[0m\u001b[0m\n\u001b[0;32m--> 811\u001b[0;31m         \u001b[0mself\u001b[0m\u001b[0;34m.\u001b[0m\u001b[0m_engine\u001b[0m \u001b[0;34m=\u001b[0m \u001b[0mself\u001b[0m\u001b[0;34m.\u001b[0m\u001b[0m_make_engine\u001b[0m\u001b[0;34m(\u001b[0m\u001b[0mself\u001b[0m\u001b[0;34m.\u001b[0m\u001b[0mengine\u001b[0m\u001b[0;34m)\u001b[0m\u001b[0;34m\u001b[0m\u001b[0;34m\u001b[0m\u001b[0m\n\u001b[0m\u001b[1;32m    812\u001b[0m \u001b[0;34m\u001b[0m\u001b[0m\n\u001b[1;32m    813\u001b[0m     \u001b[0;32mdef\u001b[0m \u001b[0mclose\u001b[0m\u001b[0;34m(\u001b[0m\u001b[0mself\u001b[0m\u001b[0;34m)\u001b[0m\u001b[0;34m:\u001b[0m\u001b[0;34m\u001b[0m\u001b[0;34m\u001b[0m\u001b[0m\n",
            "\u001b[0;32m/usr/local/lib/python3.8/dist-packages/pandas/io/parsers/readers.py\u001b[0m in \u001b[0;36m_make_engine\u001b[0;34m(self, engine)\u001b[0m\n\u001b[1;32m   1038\u001b[0m             )\n\u001b[1;32m   1039\u001b[0m         \u001b[0;31m# error: Too many arguments for \"ParserBase\"\u001b[0m\u001b[0;34m\u001b[0m\u001b[0;34m\u001b[0m\u001b[0;34m\u001b[0m\u001b[0m\n\u001b[0;32m-> 1040\u001b[0;31m         \u001b[0;32mreturn\u001b[0m \u001b[0mmapping\u001b[0m\u001b[0;34m[\u001b[0m\u001b[0mengine\u001b[0m\u001b[0;34m]\u001b[0m\u001b[0;34m(\u001b[0m\u001b[0mself\u001b[0m\u001b[0;34m.\u001b[0m\u001b[0mf\u001b[0m\u001b[0;34m,\u001b[0m \u001b[0;34m**\u001b[0m\u001b[0mself\u001b[0m\u001b[0;34m.\u001b[0m\u001b[0moptions\u001b[0m\u001b[0;34m)\u001b[0m  \u001b[0;31m# type: ignore[call-arg]\u001b[0m\u001b[0;34m\u001b[0m\u001b[0;34m\u001b[0m\u001b[0m\n\u001b[0m\u001b[1;32m   1041\u001b[0m \u001b[0;34m\u001b[0m\u001b[0m\n\u001b[1;32m   1042\u001b[0m     \u001b[0;32mdef\u001b[0m \u001b[0m_failover_to_python\u001b[0m\u001b[0;34m(\u001b[0m\u001b[0mself\u001b[0m\u001b[0;34m)\u001b[0m\u001b[0;34m:\u001b[0m\u001b[0;34m\u001b[0m\u001b[0;34m\u001b[0m\u001b[0m\n",
            "\u001b[0;32m/usr/local/lib/python3.8/dist-packages/pandas/io/parsers/c_parser_wrapper.py\u001b[0m in \u001b[0;36m__init__\u001b[0;34m(self, src, **kwds)\u001b[0m\n\u001b[1;32m     49\u001b[0m \u001b[0;34m\u001b[0m\u001b[0m\n\u001b[1;32m     50\u001b[0m         \u001b[0;31m# open handles\u001b[0m\u001b[0;34m\u001b[0m\u001b[0;34m\u001b[0m\u001b[0;34m\u001b[0m\u001b[0m\n\u001b[0;32m---> 51\u001b[0;31m         \u001b[0mself\u001b[0m\u001b[0;34m.\u001b[0m\u001b[0m_open_handles\u001b[0m\u001b[0;34m(\u001b[0m\u001b[0msrc\u001b[0m\u001b[0;34m,\u001b[0m \u001b[0mkwds\u001b[0m\u001b[0;34m)\u001b[0m\u001b[0;34m\u001b[0m\u001b[0;34m\u001b[0m\u001b[0m\n\u001b[0m\u001b[1;32m     52\u001b[0m         \u001b[0;32massert\u001b[0m \u001b[0mself\u001b[0m\u001b[0;34m.\u001b[0m\u001b[0mhandles\u001b[0m \u001b[0;32mis\u001b[0m \u001b[0;32mnot\u001b[0m \u001b[0;32mNone\u001b[0m\u001b[0;34m\u001b[0m\u001b[0;34m\u001b[0m\u001b[0m\n\u001b[1;32m     53\u001b[0m \u001b[0;34m\u001b[0m\u001b[0m\n",
            "\u001b[0;32m/usr/local/lib/python3.8/dist-packages/pandas/io/parsers/base_parser.py\u001b[0m in \u001b[0;36m_open_handles\u001b[0;34m(self, src, kwds)\u001b[0m\n\u001b[1;32m    220\u001b[0m         \u001b[0mLet\u001b[0m \u001b[0mthe\u001b[0m \u001b[0mreaders\u001b[0m \u001b[0mopen\u001b[0m \u001b[0mIOHandles\u001b[0m \u001b[0mafter\u001b[0m \u001b[0mthey\u001b[0m \u001b[0mare\u001b[0m \u001b[0mdone\u001b[0m \u001b[0;32mwith\u001b[0m \u001b[0mtheir\u001b[0m \u001b[0mpotential\u001b[0m \u001b[0mraises\u001b[0m\u001b[0;34m.\u001b[0m\u001b[0;34m\u001b[0m\u001b[0;34m\u001b[0m\u001b[0m\n\u001b[1;32m    221\u001b[0m         \"\"\"\n\u001b[0;32m--> 222\u001b[0;31m         self.handles = get_handle(\n\u001b[0m\u001b[1;32m    223\u001b[0m             \u001b[0msrc\u001b[0m\u001b[0;34m,\u001b[0m\u001b[0;34m\u001b[0m\u001b[0;34m\u001b[0m\u001b[0m\n\u001b[1;32m    224\u001b[0m             \u001b[0;34m\"r\"\u001b[0m\u001b[0;34m,\u001b[0m\u001b[0;34m\u001b[0m\u001b[0;34m\u001b[0m\u001b[0m\n",
            "\u001b[0;32m/usr/local/lib/python3.8/dist-packages/pandas/io/common.py\u001b[0m in \u001b[0;36mget_handle\u001b[0;34m(path_or_buf, mode, encoding, compression, memory_map, is_text, errors, storage_options)\u001b[0m\n\u001b[1;32m    700\u001b[0m         \u001b[0;32mif\u001b[0m \u001b[0mioargs\u001b[0m\u001b[0;34m.\u001b[0m\u001b[0mencoding\u001b[0m \u001b[0;32mand\u001b[0m \u001b[0;34m\"b\"\u001b[0m \u001b[0;32mnot\u001b[0m \u001b[0;32min\u001b[0m \u001b[0mioargs\u001b[0m\u001b[0;34m.\u001b[0m\u001b[0mmode\u001b[0m\u001b[0;34m:\u001b[0m\u001b[0;34m\u001b[0m\u001b[0;34m\u001b[0m\u001b[0m\n\u001b[1;32m    701\u001b[0m             \u001b[0;31m# Encoding\u001b[0m\u001b[0;34m\u001b[0m\u001b[0;34m\u001b[0m\u001b[0;34m\u001b[0m\u001b[0m\n\u001b[0;32m--> 702\u001b[0;31m             handle = open(\n\u001b[0m\u001b[1;32m    703\u001b[0m                 \u001b[0mhandle\u001b[0m\u001b[0;34m,\u001b[0m\u001b[0;34m\u001b[0m\u001b[0;34m\u001b[0m\u001b[0m\n\u001b[1;32m    704\u001b[0m                 \u001b[0mioargs\u001b[0m\u001b[0;34m.\u001b[0m\u001b[0mmode\u001b[0m\u001b[0;34m,\u001b[0m\u001b[0;34m\u001b[0m\u001b[0;34m\u001b[0m\u001b[0m\n",
            "\u001b[0;31mFileNotFoundError\u001b[0m: [Errno 2] No such file or directory: '../input/Cars2015.csv'"
          ]
        }
      ]
    },
    {
      "cell_type": "code",
      "source": [
        "# Data present in DataFrames can be written to a CSV file using the to_csv() function\n",
        "# If the specified path doesn't exist, a file of the same name is automatically created\n",
        "table_csv.to_csv('newcars2015.csv')"
      ],
      "metadata": {
        "id": "ZGUphRVS13DV"
      },
      "execution_count": null,
      "outputs": []
    },
    {
      "cell_type": "code",
      "source": [
        "# Data present in DataFrames can be written to a spreadsheet file using to_excel()\n",
        "#If the specified path doesn't exist, a file of the same name is automatically created\n",
        "sheet.to_excel('newcars2015.xlsx')"
      ],
      "metadata": {
        "id": "2YMr23nE145E"
      },
      "execution_count": null,
      "outputs": []
    },
    {
      "cell_type": "markdown",
      "source": [
        "### Matplotlib"
      ],
      "metadata": {
        "id": "ElUucxw_174z"
      }
    },
    {
      "cell_type": "markdown",
      "source": [
        "## install matplotlib"
      ],
      "metadata": {
        "id": "rowHhMlq2N-u"
      }
    },
    {
      "cell_type": "code",
      "source": [
        "!pip install matplotlib"
      ],
      "metadata": {
        "colab": {
          "base_uri": "https://localhost:8080/"
        },
        "id": "WisTocoD2868",
        "outputId": "93f88abf-e71b-40a9-a3b1-227def4df076"
      },
      "execution_count": null,
      "outputs": [
        {
          "output_type": "stream",
          "name": "stdout",
          "text": [
            "Looking in indexes: https://pypi.org/simple, https://us-python.pkg.dev/colab-wheels/public/simple/\n",
            "Requirement already satisfied: matplotlib in /usr/local/lib/python3.8/dist-packages (3.2.2)\n",
            "Requirement already satisfied: pyparsing!=2.0.4,!=2.1.2,!=2.1.6,>=2.0.1 in /usr/local/lib/python3.8/dist-packages (from matplotlib) (3.0.9)\n",
            "Requirement already satisfied: numpy>=1.11 in /usr/local/lib/python3.8/dist-packages (from matplotlib) (1.21.6)\n",
            "Requirement already satisfied: python-dateutil>=2.1 in /usr/local/lib/python3.8/dist-packages (from matplotlib) (2.8.2)\n",
            "Requirement already satisfied: cycler>=0.10 in /usr/local/lib/python3.8/dist-packages (from matplotlib) (0.11.0)\n",
            "Requirement already satisfied: kiwisolver>=1.0.1 in /usr/local/lib/python3.8/dist-packages (from matplotlib) (1.4.4)\n",
            "Requirement already satisfied: six>=1.5 in /usr/local/lib/python3.8/dist-packages (from python-dateutil>=2.1->matplotlib) (1.15.0)\n"
          ]
        }
      ]
    },
    {
      "cell_type": "markdown",
      "source": [
        "# Import Matplotlib submodule for plotting\n"
      ],
      "metadata": {
        "id": "6s_NBWYo3CnL"
      }
    },
    {
      "cell_type": "code",
      "source": [
        "# Import Matplotlib submodule for plotting\n",
        "import matplotlib.pyplot as plt"
      ],
      "metadata": {
        "id": "JHgwE63q4Kbg"
      },
      "execution_count": null,
      "outputs": []
    },
    {
      "cell_type": "markdown",
      "source": [
        "## Plotting in Matplotlib"
      ],
      "metadata": {
        "id": "yO1z9KcU4N2A"
      }
    },
    {
      "cell_type": "code",
      "source": [
        "plt.plot([1,2,3,4]) # List of vertical co-ordinates of the points plotted\n",
        "plt.show() # Displays plot\n",
        "# Implicit X-axis values from 0 to (N-1) where N is the length of the list"
      ],
      "metadata": {
        "colab": {
          "base_uri": "https://localhost:8080/",
          "height": 265
        },
        "id": "_U14HmqI4O-X",
        "outputId": "1983b2af-c0bb-4758-fb87-654cf8384dc3"
      },
      "execution_count": null,
      "outputs": [
        {
          "output_type": "display_data",
          "data": {
            "text/plain": [
              "<Figure size 432x288 with 1 Axes>"
            ],
            "image/png": "[encoded data removed]"
          },
          "metadata": {
            "needs_background": "light"
          }
        }
      ]
    },
    {
      "cell_type": "markdown",
      "source": [
        "# We can specify the values for both axes\n",
        "x = range(5) # Sequence of values for the x-axis\n",
        "# X-axis values specified - [0,1,2,3,4]\n",
        "plt.plot(x, [x1**2 for x1 in x]) # vertical co-ordinates of the points plotted: y = x^2\n",
        "plt.show()"
      ],
      "metadata": {
        "id": "qyX7CyZK4kEe"
      }
    },
    {
      "cell_type": "code",
      "source": [
        "# We can specify the values for both axes\n",
        "x = range(5) # Sequence of values for the x-axis\n",
        "# X-axis values specified - [0,1,2,3,4]\n",
        "plt.plot(x, [x1**2 for x1 in x]) # vertical co-ordinates of the points plotted: y = x^2\n",
        "plt.show()"
      ],
      "metadata": {
        "colab": {
          "base_uri": "https://localhost:8080/",
          "height": 265
        },
        "id": "u6r6mCvH47bP",
        "outputId": "74de74ee-7005-4cd5-b132-12733e74b87c"
      },
      "execution_count": null,
      "outputs": [
        {
          "output_type": "display_data",
          "data": {
            "text/plain": [
              "<Figure size 432x288 with 1 Axes>"
            ],
            "image/png": "[encoded data removed]"
          },
          "metadata": {
            "needs_background": "light"
          }
        }
      ]
    },
    {
      "cell_type": "code",
      "source": [
        "# We can use NumPy to specify the values for both axes with greater precision\n",
        "x = np.arange(0, 5, 0.01)\n",
        "plt.plot(x, [x1**2 for x1 in x]) # vertical co-ordinates of the points plotted: y = x^2\n",
        "plt.show()"
      ],
      "metadata": {
        "colab": {
          "base_uri": "https://localhost:8080/",
          "height": 265
        },
        "id": "h0gRtxoUEsc0",
        "outputId": "71b55dc0-5766-423b-d10b-79d6bbfefd08"
      },
      "execution_count": null,
      "outputs": [
        {
          "output_type": "display_data",
          "data": {
            "text/plain": [
              "<Figure size 432x288 with 1 Axes>"
            ],
            "image/png": "[encoded data removed]"
          },
          "metadata": {
            "needs_background": "light"
          }
        }
      ]
    },
    {
      "cell_type": "code",
      "source": [
        "# Multiple functions can be drawn on the same plot\n",
        "x = range(5)\n",
        "plt.plot(x, [x1 for x1 in x])\n",
        "plt.plot(x, [x1*x1 for x1 in x])\n",
        "plt.plot(x, [x1*x1*x1 for x1 in x])\n",
        "plt.show()"
      ],
      "metadata": {
        "colab": {
          "base_uri": "https://localhost:8080/",
          "height": 265
        },
        "id": "_0xpBP-SEx6U",
        "outputId": "38039950-d645-49ea-b054-e63813e0635e"
      },
      "execution_count": null,
      "outputs": [
        {
          "output_type": "display_data",
          "data": {
            "text/plain": [
              "<Figure size 432x288 with 1 Axes>"
            ],
            "image/png": "[encoded data removed]"
          },
          "metadata": {
            "needs_background": "light"
          }
        }
      ]
    },
    {
      "cell_type": "code",
      "source": [
        "# Different colours are used for different lines\n",
        "x = range(5)\n",
        "plt.plot(x, [x1 for x1 in x],\n",
        "         x, [x1*x1 for x1 in x],\n",
        "         x, [x1*x1*x1 for x1 in x])\n",
        "plt.show()"
      ],
      "metadata": {
        "colab": {
          "base_uri": "https://localhost:8080/",
          "height": 265
        },
        "id": "L5G4UpU3E-Po",
        "outputId": "c6ec61a0-6cf1-44a9-fec0-972f0ba1f02a"
      },
      "execution_count": null,
      "outputs": [
        {
          "output_type": "display_data",
          "data": {
            "text/plain": [
              "<Figure size 432x288 with 1 Axes>"
            ],
            "image/png": "[encoded data removed]"
          },
          "metadata": {
            "needs_background": "light"
          }
        }
      ]
    },
    {
      "cell_type": "code",
      "source": [
        "# The grid() function adds a grid to the plot\n",
        "# grid() takes a single Boolean parameter\n",
        "# grid appears in the background of the plot\n",
        "x = range(5)\n",
        "plt.plot(x, [x1 for x1 in x],\n",
        "         x, [x1*2 for x1 in x],\n",
        "         x, [x1*4 for x1 in x])\n",
        "plt.grid(True)\n",
        "plt.show()"
      ],
      "metadata": {
        "colab": {
          "base_uri": "https://localhost:8080/",
          "height": 265
        },
        "id": "zu8l7EezFBMJ",
        "outputId": "9cec866a-1f3a-47f2-c95c-80442128c6bf"
      },
      "execution_count": null,
      "outputs": [
        {
          "output_type": "display_data",
          "data": {
            "text/plain": [
              "<Figure size 432x288 with 1 Axes>"
            ],
            "image/png": "[encoded data removed]"
          },
          "metadata": {
            "needs_background": "light"
          }
        }
      ]
    },
    {
      "cell_type": "code",
      "source": [
        "# The scale of the plot can be set using axis()\n",
        "x = range(5)\n",
        "plt.plot(x, [x1 for x1 in x],\n",
        "         x, [x1*2 for x1 in x],\n",
        "         x, [x1*4 for x1 in x])\n",
        "plt.grid(True)\n",
        "plt.axis([-1, 5, -1, 10]) # Sets new axes limits\n",
        "plt.show()"
      ],
      "metadata": {
        "colab": {
          "base_uri": "https://localhost:8080/",
          "height": 269
        },
        "id": "vPrnCOsBFFtm",
        "outputId": "f524b094-c406-47f0-dd93-a0c3a0753283"
      },
      "execution_count": null,
      "outputs": [
        {
          "output_type": "display_data",
          "data": {
            "text/plain": [
              "<Figure size 432x288 with 1 Axes>"
            ],
            "image/png": "[encoded data removed]"
          },
          "metadata": {
            "needs_background": "light"
          }
        }
      ]
    },
    {
      "cell_type": "code",
      "source": [
        "# The scale of the plot can also be set using xlim() and ylim()\n",
        "x = range(5)\n",
        "plt.plot(x, [x1 for x1 in x],\n",
        "         x, [x1*2 for x1 in x],\n",
        "         x, [x1*4 for x1 in x])\n",
        "plt.grid(True)\n",
        "plt.xlim(-1, 5)\n",
        "plt.ylim(-1, 10)\n",
        "plt.show()"
      ],
      "metadata": {
        "colab": {
          "base_uri": "https://localhost:8080/",
          "height": 269
        },
        "id": "hZPNbQyLFIya",
        "outputId": "09d2fbff-62a3-4a23-d4c6-cf095020ce27"
      },
      "execution_count": null,
      "outputs": [
        {
          "output_type": "display_data",
          "data": {
            "text/plain": [
              "<Figure size 432x288 with 1 Axes>"
            ],
            "image/png": "[encoded data removed]"
          },
          "metadata": {
            "needs_background": "light"
          }
        }
      ]
    },
    {
      "cell_type": "markdown",
      "source": [
        "##Adding Labels"
      ],
      "metadata": {
        "id": "1fRi6FJZWRao"
      }
    },
    {
      "cell_type": "code",
      "source": [
        "# Labels can be added to the axes of the plot\n",
        "x = range(5)\n",
        "plt.plot(x, [x1 for x1 in x],\n",
        "         x, [x1*2 for x1 in x],\n",
        "         x, [x1*4 for x1 in x])\n",
        "plt.grid(True)\n",
        "plt.xlabel('X-axis')\n",
        "plt.ylabel('Y-axis')\n",
        "plt.show()"
      ],
      "metadata": {
        "colab": {
          "base_uri": "https://localhost:8080/",
          "height": 279
        },
        "id": "ob-CA4H0WFbY",
        "outputId": "6f8d194b-1008-4f1e-859c-43d3d5e6761d"
      },
      "execution_count": null,
      "outputs": [
        {
          "output_type": "display_data",
          "data": {
            "text/plain": [
              "<Figure size 432x288 with 1 Axes>"
            ],
            "image/png": "[encoded data removed]"
          },
          "metadata": {
            "needs_background": "light"
          }
        }
      ]
    },
    {
      "cell_type": "markdown",
      "source": [
        "### Adding the Title"
      ],
      "metadata": {
        "id": "gE-PWFbAWeix"
      }
    },
    {
      "cell_type": "code",
      "source": [
        "# The title defines the data plotted on the graph\n",
        "x = range(5)\n",
        "plt.plot(x, [x1 for x1 in x],\n",
        "         x, [x1*2 for x1 in x],\n",
        "         x, [x1*4 for x1 in x])\n",
        "plt.grid(True)\n",
        "plt.xlabel('X-axis')\n",
        "plt.ylabel('Y-axis')\n",
        "plt.title(\"Polynomial Graph\") # Pass the title as a parameter to title()\n",
        "plt.show()"
      ],
      "metadata": {
        "colab": {
          "base_uri": "https://localhost:8080/",
          "height": 295
        },
        "id": "_P8CcSLsWfID",
        "outputId": "c6be81cf-110c-400c-ca64-e43d2edf2e9e"
      },
      "execution_count": null,
      "outputs": [
        {
          "output_type": "display_data",
          "data": {
            "text/plain": [
              "<Figure size 432x288 with 1 Axes>"
            ],
            "image/png": "[encoded data removed]"
          },
          "metadata": {
            "needs_background": "light"
          }
        }
      ]
    },
    {
      "cell_type": "markdown",
      "source": [
        "### Adding a Legend"
      ],
      "metadata": {
        "id": "jVZ06s83WjOB"
      }
    },
    {
      "cell_type": "code",
      "source": [
        "# Legends explain the meaning of each line in the graph\n",
        "x = np.arange(5)\n",
        "plt.plot(x, x, label = 'linear')\n",
        "plt.plot(x, x*x, label = 'square')\n",
        "plt.plot(x, x*x*x, label = 'cube')\n",
        "plt.grid(True)\n",
        "plt.xlabel('X-axis')\n",
        "plt.ylabel('Y-axis')\n",
        "plt.title(\"Polynomial Graph\")\n",
        "plt.legend()\n",
        "plt.show()"
      ],
      "metadata": {
        "colab": {
          "base_uri": "https://localhost:8080/",
          "height": 295
        },
        "id": "qQkAG18dW2p5",
        "outputId": "3faa230f-cb57-4340-f936-2024e678e6c9"
      },
      "execution_count": null,
      "outputs": [
        {
          "output_type": "display_data",
          "data": {
            "text/plain": [
              "<Figure size 432x288 with 1 Axes>"
            ],
            "image/png": "[encoded data removed]"
          },
          "metadata": {
            "needs_background": "light"
          }
        }
      ]
    },
    {
      "cell_type": "markdown",
      "source": [
        "### Adding a Markers"
      ],
      "metadata": {
        "id": "UU7tY7hzXB2Q"
      }
    },
    {
      "cell_type": "code",
      "source": [
        "x = [1, 2, 3, 4, 5, 6]\n",
        "y = [11, 22, 33, 44, 55, 66]\n",
        "plt.plot(x, y, 'bo')\n",
        "for i in range(len(x)):\n",
        "    x_cord = x[i]\n",
        "    y_cord = y[i]\n",
        "    plt.text(x_cord, y_cord, (x_cord, y_cord), fontsize = 10)\n",
        "plt.show()"
      ],
      "metadata": {
        "colab": {
          "base_uri": "https://localhost:8080/",
          "height": 265
        },
        "id": "_04aO7RDXJBp",
        "outputId": "6433b5fd-a947-4d7d-b55f-1eb8e4008480"
      },
      "execution_count": null,
      "outputs": [
        {
          "output_type": "display_data",
          "data": {
            "text/plain": [
              "<Figure size 432x288 with 1 Axes>"
            ],
            "image/png": "[encoded data removed]"
          },
          "metadata": {
            "needs_background": "light"
          }
        }
      ]
    },
    {
      "cell_type": "markdown",
      "source": [
        "### Saving Plots"
      ],
      "metadata": {
        "id": "mgNPjgL7XNIw"
      }
    },
    {
      "cell_type": "code",
      "source": [
        "# Plots can be saved using savefig()\n",
        "x = np.arange(5)\n",
        "plt.plot(x, x, label = 'linear')\n",
        "plt.plot(x, x*x, label = 'square')\n",
        "plt.plot(x, x*x*x, label = 'cube')\n",
        "plt.grid(True)\n",
        "plt.xlabel('X-axis')\n",
        "plt.ylabel('Y-axis')\n",
        "plt.title(\"Polynomial Graph\")\n",
        "plt.legend()\n",
        "plt.savefig('plot.png') # Saves an image names 'plot.png' in the current directory\n",
        "plt.show()"
      ],
      "metadata": {
        "colab": {
          "base_uri": "https://localhost:8080/",
          "height": 295
        },
        "id": "Mwanf0nWXPzS",
        "outputId": "266da2ec-60b1-4fd4-ab43-cff08f88b5ab"
      },
      "execution_count": null,
      "outputs": [
        {
          "output_type": "display_data",
          "data": {
            "text/plain": [
              "<Figure size 432x288 with 1 Axes>"
            ],
            "image/png": "[encoded data removed]"
          },
          "metadata": {
            "needs_background": "light"
          }
        }
      ]
    },
    {
      "cell_type": "markdown",
      "source": [
        "### Plot Types"
      ],
      "metadata": {
        "id": "1GWXZ4_wXR-o"
      }
    },
    {
      "cell_type": "markdown",
      "source": [
        "Matplotlib provides many types of plot formats for visualising information\n",
        "1. Scatter Plot\n",
        "2. Histogram\n",
        "3. Bar Graph\n",
        "4. Pie Chart"
      ],
      "metadata": {
        "id": "8cvg3iJaXcGw"
      }
    },
    {
      "cell_type": "markdown",
      "source": [
        "### Histogram"
      ],
      "metadata": {
        "id": "auAPDb5MXfLI"
      }
    },
    {
      "cell_type": "code",
      "source": [
        "# Histograms display the distribution of a variable over a range of frequencies or values\n",
        "y = np.random.randn(100, 100) # 100x100 array of a Gaussian distribution\n",
        "plt.hist(y) # Function to plot the histogram takes the dataset as the parameter\n",
        "plt.show()"
      ],
      "metadata": {
        "colab": {
          "base_uri": "https://localhost:8080/",
          "height": 265
        },
        "id": "SugxzqMBXUVQ",
        "outputId": "2de2d4f2-92d4-4676-b973-0f6b6bf496b0"
      },
      "execution_count": null,
      "outputs": [
        {
          "output_type": "display_data",
          "data": {
            "text/plain": [
              "<Figure size 432x288 with 1 Axes>"
            ],
            "image/png": "[encoded data removed]"
          },
          "metadata": {
            "needs_background": "light"
          }
        }
      ]
    },
    {
      "cell_type": "code",
      "source": [
        "# Histogram groups values into non-overlapping categories called bins\n",
        "# Default bin value of the histogram plot is 10\n",
        "y = np.random.randn(1000)\n",
        "plt.hist(y, 100)\n",
        "plt.show()"
      ],
      "metadata": {
        "colab": {
          "base_uri": "https://localhost:8080/",
          "height": 265
        },
        "id": "HJPOqscrXlig",
        "outputId": "0efce408-05ba-4e10-eae7-ffa55f7fd25f"
      },
      "execution_count": null,
      "outputs": [
        {
          "output_type": "display_data",
          "data": {
            "text/plain": [
              "<Figure size 432x288 with 1 Axes>"
            ],
            "image/png": "[encoded data removed]"
          },
          "metadata": {
            "needs_background": "light"
          }
        }
      ]
    },
    {
      "cell_type": "code",
      "source": [
        "# Bar charts are used to visually compare two or more values using rectangular bars\n",
        "# Default width of each bar is 0.8 units\n",
        "# [1,2,3] Mid-point of the lower face of every bar\n",
        "# [1,4,9] Heights of the successive bars in the plot\n",
        "plt.bar([1,2,3], [1,4,9])\n",
        "plt.show()"
      ],
      "metadata": {
        "colab": {
          "base_uri": "https://localhost:8080/",
          "height": 265
        },
        "id": "l37foRpzXnZh",
        "outputId": "48c97d00-7ab4-4015-8d8f-919f27fd96ee"
      },
      "execution_count": null,
      "outputs": [
        {
          "output_type": "display_data",
          "data": {
            "text/plain": [
              "<Figure size 432x288 with 1 Axes>"
            ],
            "image/png": "[encoded data removed]"
          },
          "metadata": {
            "needs_background": "light"
          }
        }
      ]
    },
    {
      "cell_type": "code",
      "source": [
        "dictionary = {'A':25, 'B':70, 'C':55, 'D':90}\n",
        "for i, key in enumerate(dictionary):\n",
        "    plt.bar(i, dictionary[key]) # Each key-value pair is plotted individually as dictionaries are not iterable\n",
        "plt.show()"
      ],
      "metadata": {
        "colab": {
          "base_uri": "https://localhost:8080/",
          "height": 265
        },
        "id": "jTe67vGJXpGI",
        "outputId": "8cec9dd4-5f28-4326-c29a-12d34f34bf73"
      },
      "execution_count": null,
      "outputs": [
        {
          "output_type": "display_data",
          "data": {
            "text/plain": [
              "<Figure size 432x288 with 1 Axes>"
            ],
            "image/png": "[encoded data removed]"
          },
          "metadata": {
            "needs_background": "light"
          }
        }
      ]
    },
    {
      "cell_type": "code",
      "source": [
        "dictionary = {'A':25, 'B':70, 'C':55, 'D':90}\n",
        "for i, key in enumerate(dictionary):\n",
        "    plt.bar(i, dictionary[key])\n",
        "plt.xticks(np.arange(len(dictionary)), dictionary.keys()) # Adds the keys as labels on the x-axis\n",
        "plt.show()"
      ],
      "metadata": {
        "colab": {
          "base_uri": "https://localhost:8080/",
          "height": 265
        },
        "id": "wwfB_8YuXq54",
        "outputId": "ebb3e0a4-9fa2-406d-c942-8dfa2d5c761a"
      },
      "execution_count": null,
      "outputs": [
        {
          "output_type": "display_data",
          "data": {
            "text/plain": [
              "<Figure size 432x288 with 1 Axes>"
            ],
            "image/png": "[encoded data removed]"
          },
          "metadata": {
            "needs_background": "light"
          }
        }
      ]
    },
    {
      "cell_type": "markdown",
      "source": [
        "### Pie Chart"
      ],
      "metadata": {
        "id": "SbqgxbPFXtFJ"
      }
    },
    {
      "cell_type": "code",
      "source": [
        "plt.figure(figsize = (3,3)) # Size of the plot in inches\n",
        "x = [40, 20, 5] # Proportions of the sectors\n",
        "labels = ['Bikes', 'Cars', 'Buses']\n",
        "plt.pie(x, labels = labels)\n",
        "plt.show()"
      ],
      "metadata": {
        "colab": {
          "base_uri": "https://localhost:8080/",
          "height": 194
        },
        "id": "8bIA26xtXtx4",
        "outputId": "887f39b5-6443-4d36-8b28-5077eb42beea"
      },
      "execution_count": null,
      "outputs": [
        {
          "output_type": "display_data",
          "data": {
            "text/plain": [
              "<Figure size 216x216 with 1 Axes>"
            ],
            "image/png": "[encoded data removed]"
          },
          "metadata": {}
        }
      ]
    },
    {
      "cell_type": "markdown",
      "source": [
        "### Scatter Plot"
      ],
      "metadata": {
        "id": "vJRTz1DZXxmA"
      }
    },
    {
      "cell_type": "code",
      "source": [
        "# Scatter plots display values for two sets of data, visualised as a collection of points\n",
        "# Two Gaussion distribution plotted\n",
        "x = np.random.rand(1000)\n",
        "y = np.random.rand(1000)\n",
        "plt.scatter(x, y)\n",
        "plt.show()"
      ],
      "metadata": {
        "colab": {
          "base_uri": "https://localhost:8080/",
          "height": 265
        },
        "id": "tloYstHxXyN4",
        "outputId": "505c54db-fc16-4d66-eaba-3fde67358db7"
      },
      "execution_count": null,
      "outputs": [
        {
          "output_type": "display_data",
          "data": {
            "text/plain": [
              "<Figure size 432x288 with 1 Axes>"
            ],
            "image/png": "[encoded data removed]"
          },
          "metadata": {
            "needs_background": "light"
          }
        }
      ]
    },
    {
      "cell_type": "markdown",
      "source": [
        "### Styling"
      ],
      "metadata": {
        "id": "grTmSUEHX1TA"
      }
    },
    {
      "cell_type": "code",
      "source": [
        "# Matplotlib allows to choose custom colours for plots\n",
        "y = np.arange(1, 3)\n",
        "plt.plot(y, 'y') # Specifying line colours\n",
        "plt.plot(y+5, 'm')\n",
        "plt.plot(y+10, 'c')\n",
        "plt.show()"
      ],
      "metadata": {
        "colab": {
          "base_uri": "https://localhost:8080/",
          "height": 265
        },
        "id": "eZFk5tHRX17R",
        "outputId": "531cc8f5-a07e-408a-ef34-8dfcab638751"
      },
      "execution_count": null,
      "outputs": [
        {
          "output_type": "display_data",
          "data": {
            "text/plain": [
              "<Figure size 432x288 with 1 Axes>"
            ],
            "image/png": "[encoded data removed]"
          },
          "metadata": {
            "needs_background": "light"
          }
        }
      ]
    },
    {
      "cell_type": "markdown",
      "source": [
        "Color code:\n",
        "1. b = Blue\n",
        "2. c = Cyan\n",
        "3. g = Green\n",
        "4. k = Black\n",
        "5. m = Magenta\n",
        "6. r = Red\n",
        "7. w = White\n",
        "8. y = Yellow"
      ],
      "metadata": {
        "id": "FKEqn5SlX7qw"
      }
    },
    {
      "cell_type": "markdown",
      "source": [],
      "metadata": {
        "id": "Bt2wCU0PWtAh"
      }
    }
  ]
}